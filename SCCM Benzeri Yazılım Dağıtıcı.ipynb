{
 "cells": [
  {
   "cell_type": "markdown",
   "id": "052f84f6-acb1-4e74-83df-194427999059",
   "metadata": {},
   "source": [
    "# 1. ADIM – Gerekli Kütüphaneleri İçe Aktar"
   ]
  },
  {
   "cell_type": "code",
   "execution_count": 71,
   "id": "b072aae8-a6cb-44e9-96b7-74b6d9e7de45",
   "metadata": {},
   "outputs": [],
   "source": [
    "import tkinter as tk\n",
    "from tkinter import messagebox\n",
    "import urllib.request\n",
    "import subprocess\n",
    "import os\n",
    "from datetime import datetime\n"
   ]
  },
  {
   "cell_type": "markdown",
   "id": "fccc38c5-ed16-49e7-b211-d3d06f41ad5f",
   "metadata": {},
   "source": [
    "# 2. ADIM – Kurulum Log Kaydı Fonksiyonu"
   ]
  },
  {
   "cell_type": "code",
   "execution_count": 74,
   "id": "fd2da5ae-8b7b-445b-a473-e9f36839104e",
   "metadata": {},
   "outputs": [],
   "source": [
    "def log_yaz(mesaj):\n",
    "    with open(\"kurulum_log.txt\", \"a\", encoding=\"utf-8\") as f:\n",
    "        zaman = datetime.now().strftime(\"%Y-%m-%d %H:%M:%S\")\n",
    "        f.write(f\"[{zaman}] {mesaj}\\n\")\n"
   ]
  },
  {
   "cell_type": "markdown",
   "id": "108fc540-0be8-4e9c-9954-ce333c11f91b",
   "metadata": {},
   "source": [
    "# 3. ADIM – Sessiz Kurulum İşlemini Yapan Fonksiyon"
   ]
  },
  {
   "cell_type": "code",
   "execution_count": 77,
   "id": "a2ac3f02-dd23-4849-acd7-0411af2ec300",
   "metadata": {},
   "outputs": [],
   "source": [
    "def sessiz_kurulum_gui():\n",
    "    url = url_entry.get().strip()  # 🔧 URL'deki boşluk/satırsonunu temizle\n",
    "    parametre = parametre_entry.get().strip() or \"/S\"  # 🔧 varsayılan parametre\n",
    "    dosya_adi = os.path.basename(url).strip()  # 🔧 dosya adı temizleniyor\n",
    "\n",
    "    try:\n",
    "        status_label.config(text=\"🧲 Dosya indiriliyor...\", fg=\"blue\")\n",
    "        pencere.update()\n",
    "\n",
    "        urllib.request.urlretrieve(url, dosya_adi)\n",
    "\n",
    "        status_label.config(text=\"⚙️ Kurulum başlatılıyor...\", fg=\"orange\")\n",
    "        pencere.update()\n",
    "\n",
    "        subprocess.run([\"runas\", \"/user:Administrator\", dosya_adi])\n",
    "\n",
    "        status_label.config(text=\"✅ Kurulum tamamlandı.\", fg=\"green\")\n",
    "        log_yaz(f\"{dosya_adi} başarıyla kuruldu.\")\n",
    "    except Exception as e:\n",
    "        status_label.config(text=\"❌ Hata oluştu.\", fg=\"red\")\n",
    "        log_yaz(f\"HATA: {e}\")\n",
    "        messagebox.showerror(\"Kurulum Hatası\", str(e))\n"
   ]
  },
  {
   "cell_type": "markdown",
   "id": "a66b4f65-efdd-4262-824c-23f731d2cbd9",
   "metadata": {},
   "source": [
    "# 4. ADIM – Tkinter Arayüz Oluşturma"
   ]
  },
  {
   "cell_type": "code",
   "execution_count": 80,
   "id": "e8099026-a480-4d0f-be1a-787fc36efecc",
   "metadata": {},
   "outputs": [
    {
     "data": {
      "text/plain": [
       "''"
      ]
     },
     "execution_count": 80,
     "metadata": {},
     "output_type": "execute_result"
    }
   ],
   "source": [
    "pencere = tk.Tk()\n",
    "pencere.title(\"SCCM Simülasyonu: Sessiz Yazılım Kurucu\")\n",
    "pencere.geometry(\"600x250\")\n"
   ]
  },
  {
   "cell_type": "markdown",
   "id": "9dc5822e-3207-445e-b4b8-8300b73ecd6b",
   "metadata": {},
   "source": [
    "# 5. ADIM – URL ve Parametre Giriş Alanları"
   ]
  },
  {
   "cell_type": "code",
   "execution_count": 83,
   "id": "8dada658-4053-47fe-9a65-47cbf5e71f53",
   "metadata": {},
   "outputs": [],
   "source": [
    "tk.Label(pencere, text=\"Yazılım İndirme Linki (EXE veya MSI):\", font=(\"Arial\", 10)).pack(pady=5)\n",
    "url_entry = tk.Entry(pencere, width=80)\n",
    "url_entry.insert(0, \"https://download.notepad-plus-plus.org/repository/8.x/8.6.5/npp.8.6.5.Installer.x64.exe\")\n",
    "url_entry.pack(pady=5)\n",
    "\n",
    "tk.Label(pencere, text=\"Sessiz Kurulum Parametresi (Varsayılan: /S):\", font=(\"Arial\", 10)).pack(pady=5)\n",
    "parametre_entry = tk.Entry(pencere, width=20)\n",
    "parametre_entry.insert(0, \"/S\")\n",
    "parametre_entry.pack(pady=5)\n"
   ]
  },
  {
   "cell_type": "markdown",
   "id": "8f9c502b-be73-44d0-83d1-27757b4b1342",
   "metadata": {},
   "source": [
    "# 6. ADIM – Kurulum Başlat Butonu ve Durum Etiketi"
   ]
  },
  {
   "cell_type": "code",
   "execution_count": 86,
   "id": "ce99e5ba-bb0c-412e-b818-953c6fb889e2",
   "metadata": {},
   "outputs": [],
   "source": [
    "kur_button = tk.Button(pencere, text=\"Kurulumu Başlat\", command=sessiz_kurulum_gui, bg=\"lightblue\", font=(\"Arial\", 11, \"bold\"))\n",
    "kur_button.pack(pady=10)\n",
    "\n",
    "status_label = tk.Label(pencere, text=\"\", font=(\"Arial\", 10))\n",
    "status_label.pack(pady=5)\n"
   ]
  },
  {
   "cell_type": "markdown",
   "id": "4ab0dd8c-aa2f-4a01-87a5-e623fc6b6e7d",
   "metadata": {},
   "source": [
    "# 7. ADIM – Arayüzü Başlat"
   ]
  },
  {
   "cell_type": "code",
   "execution_count": 89,
   "id": "7dc316cf-235d-46b3-9ea4-9480d86cde93",
   "metadata": {},
   "outputs": [],
   "source": [
    "pencere.mainloop()\n"
   ]
  }
 ],
 "metadata": {
  "kernelspec": {
   "display_name": "Python [conda env:base] *",
   "language": "python",
   "name": "conda-base-py"
  },
  "language_info": {
   "codemirror_mode": {
    "name": "ipython",
    "version": 3
   },
   "file_extension": ".py",
   "mimetype": "text/x-python",
   "name": "python",
   "nbconvert_exporter": "python",
   "pygments_lexer": "ipython3",
   "version": "3.12.7"
  }
 },
 "nbformat": 4,
 "nbformat_minor": 5
}
